{
 "cells": [
  {
   "cell_type": "code",
   "execution_count": 1,
   "id": "0848c0c1-3696-49bc-a272-51c3aaf84704",
   "metadata": {},
   "outputs": [],
   "source": [
    "import json\n",
    "import openai\n",
    "from IPython.display import display, JSON"
   ]
  },
  {
   "cell_type": "code",
   "execution_count": 2,
   "id": "afd2e432-a753-4228-a449-4367d928c940",
   "metadata": {},
   "outputs": [],
   "source": [
    "file_path = '../OPENAI_API_KEY.txt'\n",
    "with open(file_path, 'r') as file:\n",
    "    openai.api_key = file.readline()\n",
    "\n",
    "def get_openai_model_price(model_name):\n",
    "    if(model_name in 'gpt-4o-mini-2024-07-18'):\n",
    "        return {'name': model_name, 'input_token_price_per_million_usd' : 0.15, 'cached_input_token_price_per_million_usd' : 0.075, 'output_token_price_per_million_usd' : 0.60}\n",
    "    return None\n",
    "\n",
    "def get_chat_completion_stats(response):\n",
    "    response_json = json.loads(response.model_dump_json())\n",
    "    input_tokens = response_json['usage']['prompt_tokens']\n",
    "    cached_input_tokens = response_json['usage']['prompt_tokens_details']['cached_tokens']\n",
    "    output_tokens = response_json['usage']['completion_tokens']\n",
    "\n",
    "    prices = get_openai_model_price(response_json['model'])\n",
    "    input_token_price_per_million_usd = prices['input_token_price_per_million_usd']\n",
    "    cached_input_token_price_per_million_usd = prices['cached_input_token_price_per_million_usd']\n",
    "    output_token_price_per_million_usd = prices['output_token_price_per_million_usd']\n",
    "\n",
    "    million = 1000000\n",
    "    input_tokens_cost = (input_tokens/million)*input_token_price_per_million_usd\n",
    "    cached_input_tokens_cost = (cached_input_tokens/million)*cached_input_token_price_per_million_usd\n",
    "    output_token_cost = (output_tokens/million)*output_token_price_per_million_usd\n",
    "\n",
    "    total_cost = input_tokens_cost + cached_input_tokens_cost + output_token_cost\n",
    "    output = {\n",
    "        'input': {\n",
    "            'rate': input_token_price_per_million_usd,\n",
    "            'tokens': input_tokens,\n",
    "            'cost': f'{input_tokens_cost:.10f}'\n",
    "        },\n",
    "        'cached_input': {\n",
    "            'rate': cached_input_token_price_per_million_usd,\n",
    "            'tokens': cached_input_tokens,\n",
    "            'cost': f'{cached_input_tokens_cost:.10f}'\n",
    "        },\n",
    "        'output': {\n",
    "            'rate': output_token_price_per_million_usd,\n",
    "            'tokens': output_tokens,\n",
    "            'cost': f'{output_token_cost:.10f}'\n",
    "        },\n",
    "        'total': {\n",
    "            'cost': f'{total_cost:.10f}'\n",
    "        }\n",
    "    }\n",
    "    return output\n",
    "\n",
    "\n",
    "import ipywidgets as widgets\n",
    "from IPython.display import display, HTML\n",
    "def display_stats(stats):\n",
    "    data = stats\n",
    "    # Create an HTML formatted string for a compact table layout\n",
    "    html_content = f\"\"\"\n",
    "    <style>\n",
    "        .usage-table {{\n",
    "            font-family: Arial, sans-serif;\n",
    "            font-size: 12px;\n",
    "            width: 70%;\n",
    "            border-collapse: collapse;\n",
    "            margin: 10px auto;\n",
    "        }}\n",
    "        .usage-table th, .usage-table td {{\n",
    "            padding: 6px 10px;\n",
    "            text-align: left;\n",
    "            border-bottom: 1px solid #ddd;\n",
    "        }}\n",
    "        .usage-table th {{\n",
    "            background-color: #007bff;\n",
    "            color: white;\n",
    "            text-align: center;\n",
    "        }}\n",
    "        .input-row {{ background-color: #e3f2fd; }}\n",
    "        .cached-row {{ background-color: #f1f8e9; }}\n",
    "        .output-row {{ background-color: #ffebee; }}\n",
    "        .total-row {{ background-color: #007bff; font-weight: bold; }}\n",
    "    </style>\n",
    "    \n",
    "    <table class=\"usage-table\">\n",
    "        <tr>\n",
    "            <th>Type</th>\n",
    "            <th>Rate ($/1M)</th>\n",
    "            <th>Tokens</th>\n",
    "            <th>Cost ($)</th>\n",
    "        </tr>\n",
    "        <tr class=\"input-row\">\n",
    "            <td>Input 🔽</td>\n",
    "            <td>{data['input']['rate']}</td>\n",
    "            <td>{data['input']['tokens']}</td>\n",
    "            <td>{data['input']['cost']}</td>\n",
    "        </tr>\n",
    "        <tr class=\"cached-row\">\n",
    "            <td>Cached Input 🔄</td>\n",
    "            <td>{data['cached_input']['rate']}</td>\n",
    "            <td>{data['cached_input']['tokens']}</td>\n",
    "            <td>{data['cached_input']['cost']}</td>\n",
    "        </tr>\n",
    "        <tr class=\"output-row\">\n",
    "            <td>Output 🔼</td>\n",
    "            <td>{data['output']['rate']}</td>\n",
    "            <td>{data['output']['tokens']}</td>\n",
    "            <td>{data['output']['cost']}</td>\n",
    "        </tr>\n",
    "        <tr class=\"total-row\">\n",
    "            <td>Total 💰</td>\n",
    "            <td>—</td>\n",
    "            <td>—</td>\n",
    "            <td>{data['total']['cost']}</td>\n",
    "        </tr>\n",
    "    </table>\n",
    "    \"\"\"\n",
    "    \n",
    "    # Display in Jupyter Notebook\n",
    "    display(HTML(html_content))\n",
    "\n",
    "def display_response(response):\n",
    "    display(JSON(json.loads(response.model_dump_json())))\n",
    "    stats = get_chat_completion_stats(response)\n",
    "    display_stats(stats)"
   ]
  },
  {
   "cell_type": "code",
   "execution_count": 3,
   "id": "e28e7430-9fe3-49df-b2ee-e117d66ef6e0",
   "metadata": {},
   "outputs": [],
   "source": [
    "# create tools for gpt\n",
    "\n",
    "# we have themealdb apis to provide us information about various food categories, food ingredients, search meal by main-ingredient, meal images, meal preparation description\n",
    "\n",
    "import requests\n",
    "\n",
    "class TheMealDBAPI:\n",
    "    def __init__(self, api_key):\n",
    "        self.base_url = f\"https://www.themealdb.com/api/json/v2/{api_key}\"\n",
    "    \n",
    "    def get_all_food_categories(self):\n",
    "        response = requests.get(f'{self.base_url}/list.php?c=list').json()\n",
    "        categories = [item['strCategory'] for item in response['meals']]\n",
    "        return categories\n",
    "\n",
    "    def get_all_food_ingredients(self):\n",
    "        response = requests.get(f'{self.base_url}/list.php?i=list').json()\n",
    "        ingredients = [item['strIngredient'] for item in response['meals']]\n",
    "        return ingredients\n",
    "\n",
    "    def filter_meal_by_ingredient(self, ingredients):\n",
    "        response = requests.get(f'{self.base_url}/filter.php?i={\",\".join(ingredients)}').json()\n",
    "        return response\n",
    "\n",
    "    def get_meal_details_by_id(self, meal_id):\n",
    "        response = requests.get(f'{self.base_url}/lookup.php?i={meal_id}').json()\n",
    "        return response\n",
    "\n",
    "mealdb_api_key = None\n",
    "with open('../MEALDB_API_KEY.txt') as file:\n",
    "    mealdb_api_key = file.readline()\n",
    "themealdbapi = TheMealDBAPI(mealdb_api_key)\n",
    "\n",
    "# create function map\n",
    "def call_function(name, args):\n",
    "\n",
    "    if(name == \"get_all_food_categories\"):\n",
    "        return themealdbapi.get_all_food_categories()\n",
    "    if(name == \"get_all_food_ingredients\"):\n",
    "        return themealdbapi.get_all_food_ingredients()\n",
    "\n",
    "def get_function_schema(name):\n",
    "    function_schema_map = {\n",
    "        \"get_all_food_categories\": {\n",
    "            \"name\": \"get_all_food_categories\",\n",
    "            \"description\": \"get all food categories, like vegetarian, non-vegetarian, etc.\",\n",
    "            \"strict\": True,\n",
    "            \"parameters\": {\n",
    "                \"type\": \"object\",\n",
    "                \"properties\": {},\n",
    "                \"additionalProperties\": False\n",
    "              }\n",
    "        },\n",
    "        \"get_all_food_ingredients\": {\n",
    "            \"name\": \"get_all_food_ingredients\",\n",
    "            \"description\": \"get a list of food ingredients to be used to prepare a meal\",\n",
    "            \"strict\": True,\n",
    "            \"parameters\": {\n",
    "                \"type\": \"object\",\n",
    "                \"properties\": {},\n",
    "                \"additionalProperties\": False\n",
    "            }\n",
    "        }\n",
    "    }\n",
    "    return function_schema_map[name]\n",
    "\n",
    "themealdb_tools = []\n",
    "themealdb_tools.append({\n",
    "    \"type\": \"function\",\n",
    "    \"function\": get_function_schema(\"get_all_food_categories\")\n",
    "})\n",
    "themealdb_tools.append({\n",
    "    \"type\": \"function\",\n",
    "    \"function\": get_function_schema(\"get_all_food_ingredients\")\n",
    "})"
   ]
  },
  {
   "cell_type": "code",
   "execution_count": 4,
   "id": "fac77504-f3b9-4be4-b02b-e123c70b18d3",
   "metadata": {},
   "outputs": [
    {
     "data": {
      "application/json": {
       "choices": [
        {
         "finish_reason": "stop",
         "index": 0,
         "logprobs": null,
         "message": {
          "annotations": [],
          "audio": null,
          "content": "Why did the scarecrow win an award? Because he was outstanding in his field!",
          "function_call": null,
          "refusal": null,
          "role": "assistant",
          "tool_calls": null
         }
        }
       ],
       "created": 1743606762,
       "id": "chatcmpl-BHu3epAHkPTx7mdRahxevY4pQT9BW",
       "model": "gpt-4o-mini-2024-07-18",
       "object": "chat.completion",
       "service_tier": "default",
       "system_fingerprint": "fp_b376dfbbd5",
       "usage": {
        "completion_tokens": 18,
        "completion_tokens_details": {
         "accepted_prediction_tokens": 0,
         "audio_tokens": 0,
         "reasoning_tokens": 0,
         "rejected_prediction_tokens": 0
        },
        "prompt_tokens": 30,
        "prompt_tokens_details": {
         "audio_tokens": 0,
         "cached_tokens": 0
        },
        "total_tokens": 48
       }
      },
      "text/plain": [
       "<IPython.core.display.JSON object>"
      ]
     },
     "metadata": {
      "application/json": {
       "expanded": false,
       "root": "root"
      }
     },
     "output_type": "display_data"
    },
    {
     "data": {
      "text/html": [
       "\n",
       "    <style>\n",
       "        .usage-table {\n",
       "            font-family: Arial, sans-serif;\n",
       "            font-size: 12px;\n",
       "            width: 70%;\n",
       "            border-collapse: collapse;\n",
       "            margin: 10px auto;\n",
       "        }\n",
       "        .usage-table th, .usage-table td {\n",
       "            padding: 6px 10px;\n",
       "            text-align: left;\n",
       "            border-bottom: 1px solid #ddd;\n",
       "        }\n",
       "        .usage-table th {\n",
       "            background-color: #007bff;\n",
       "            color: white;\n",
       "            text-align: center;\n",
       "        }\n",
       "        .input-row { background-color: #e3f2fd; }\n",
       "        .cached-row { background-color: #f1f8e9; }\n",
       "        .output-row { background-color: #ffebee; }\n",
       "        .total-row { background-color: #007bff; font-weight: bold; }\n",
       "    </style>\n",
       "    \n",
       "    <table class=\"usage-table\">\n",
       "        <tr>\n",
       "            <th>Type</th>\n",
       "            <th>Rate ($/1M)</th>\n",
       "            <th>Tokens</th>\n",
       "            <th>Cost ($)</th>\n",
       "        </tr>\n",
       "        <tr class=\"input-row\">\n",
       "            <td>Input 🔽</td>\n",
       "            <td>0.15</td>\n",
       "            <td>30</td>\n",
       "            <td>0.0000045000</td>\n",
       "        </tr>\n",
       "        <tr class=\"cached-row\">\n",
       "            <td>Cached Input 🔄</td>\n",
       "            <td>0.075</td>\n",
       "            <td>0</td>\n",
       "            <td>0.0000000000</td>\n",
       "        </tr>\n",
       "        <tr class=\"output-row\">\n",
       "            <td>Output 🔼</td>\n",
       "            <td>0.6</td>\n",
       "            <td>18</td>\n",
       "            <td>0.0000108000</td>\n",
       "        </tr>\n",
       "        <tr class=\"total-row\">\n",
       "            <td>Total 💰</td>\n",
       "            <td>—</td>\n",
       "            <td>—</td>\n",
       "            <td>0.0000153000</td>\n",
       "        </tr>\n",
       "    </table>\n",
       "    "
      ],
      "text/plain": [
       "<IPython.core.display.HTML object>"
      ]
     },
     "metadata": {},
     "output_type": "display_data"
    },
    {
     "name": "stdout",
     "output_type": "stream",
     "text": [
      "Why did the scarecrow win an award? Because he was outstanding in his field!\n"
     ]
    }
   ],
   "source": [
    "def get_chat_model_completions(messages, tools=None):\n",
    "    response = openai.chat.completions.create(\n",
    "        model = 'gpt-4o-mini',\n",
    "        messages = messages,\n",
    "        temperature = 0,\n",
    "        tools = tools\n",
    "    )\n",
    "    display_response(response)\n",
    "    finish_reason = response.choices[0].finish_reason\n",
    "    response_message = response.choices[0].message\n",
    "    if(finish_reason == 'stop'):\n",
    "        return response_message.content\n",
    "    if(finish_reason == 'tool_calls'):\n",
    "        print('will make tool calls')\n",
    "        tool_calls = response_message.tool_calls\n",
    "\n",
    "        if(tool_calls):\n",
    "            messages.append(response_message.model_dump())\n",
    "        \n",
    "            for tool_call in tool_calls:\n",
    "                function_name = tool_call.function.name\n",
    "                function_arguments = tool_call.function.arguments\n",
    "                print(f'Function: {function_name}')\n",
    "                print(f'Arguments: {function_arguments}')\n",
    "                function_args = json.loads(function_arguments)\n",
    "                function_response = call_function(function_name, function_args)\n",
    "                print(f'Function Response: {function_response}')\n",
    "        \n",
    "                messages.append({\n",
    "                    \"role\": \"tool\",\n",
    "                    \"name\": function_name,\n",
    "                    \"content\": str(function_response),\n",
    "                    \"tool_call_id\": tool_call.id\n",
    "                })\n",
    "        return get_chat_model_completions(messages, tools)\n",
    "\n",
    "test_messages = [\n",
    "    {'role': 'system', 'content': 'You are a joke teller, you give responses in less than 40 words'},\n",
    "    {'role': 'user', 'content': 'tell me a joke'}\n",
    "]\n",
    "\n",
    "print(get_chat_model_completions(test_messages))\n",
    "\n",
    "# if we see a response, it means the api-key is still working\n",
    "\n",
    "def is_flagged_text(user_input):\n",
    "    response = openai.moderations.create(input=user_input)\n",
    "    flagged = response.results[0].flagged\n",
    "    return flagged\n",
    "\n",
    "def append_message_to_conversation(conversation_log, message, role):\n",
    "    conversation_log.append({\"role\": role, \"content\": message})"
   ]
  },
  {
   "cell_type": "code",
   "execution_count": 5,
   "id": "9fc263e5-4ce3-44cf-a028-66c5b4a0da74",
   "metadata": {},
   "outputs": [],
   "source": [
    "conversation_log = []\n",
    "\n",
    "def initialize_conversation():\n",
    "    sample_food_categories = \"Vegan, Vegetarian, etc.\"\n",
    "    sample_food_ingredient = \"Tofu, Rice, Chicken, etc.\"\n",
    "    \n",
    "    sample_output = {\n",
    "           'meal_name': 'Grilled Chicken Quinoa Bowl',\n",
    "           'nutrients': 'High in protein, fiber, and healthy fats',\n",
    "           'ingredients': ['Chicken Breast',\n",
    "            'Quinoa',\n",
    "            'Avocado',\n",
    "            'Spinach',\n",
    "            'Cherry Tomatoes',\n",
    "            'Olive Oil'],\n",
    "           'main_ingredient': 'Chicken Breast',\n",
    "           'food_category': 'Main Course',\n",
    "           'description': 'This meal is packed with protein from the chicken, which helps in muscle recovery and strength gain. Quinoa provides complex carbohydrates for sustained energy, while spinach and tomatoes add essential vitamins.'\n",
    "        }\n",
    "    \n",
    "    delimiter = \"######\"\n",
    "    prompt = f\"\"\"\n",
    "\n",
    "    You are an expert nutritionist, an expert meal planner and an expert health coach.\n",
    "    Your objective is to interview the user and understand their health objective and present them with relevant meals.\n",
    "\n",
    "    {delimiter}\n",
    "    While you are interviewing the user, ask about their food categories.\n",
    "    Before you ask the user about their food categories, get all food categories. You will be penalized if you start your conversation before getting all the food categories.\n",
    "    You will add the list of food ingredients in the final output. The final output should contain food ingredients from authentic sources, so get all food ingredients. You will be penalized if you start your conversation before getting all the food ingredients.\n",
    "    Once you know about all the food categories and food ingredients, keep it to yourself and do not show in the output for the users to choose from. Your conversation should be natural. Pick up a few random food categories and a few random food ingredient to show as an example to the user.conversation_log\n",
    "    For example, when you show the food categories, you can show like {sample_food_categories}, and when you want to take examples of food ingredient, you can show something like {sample_food_ingredient}. Never show the entire list.\n",
    "    If the user asks for more options, you can then share a few more varied options. But you will never show the entire list of food categories and food ingredients.\n",
    "\n",
    "    {delimiter}\n",
    "    The final output should contain meal name, which nutrients it contains, list of all the ingredients, name of the main ingredient, food category and a description of connection of health objective and the ingredients.\n",
    "    The ingredient should only be from the list of ingredients that you fetched. The main_ingredient should be from the list of ingredients that you fetched.\n",
    "    The final output should contain 5 meals only in a json format without any code markers. If you do not show 5 meals, you will be heavily penalized.\n",
    "    the final output will look like {sample_output}\n",
    "\n",
    "    {delimiter}\n",
    "    Start by greeting the user and introducing yourself.\n",
    "    \n",
    "    \"\"\"\n",
    "\n",
    "    prompt_with_role = {\"role\": \"system\", \"content\": prompt}\n",
    "    return prompt_with_role"
   ]
  },
  {
   "cell_type": "code",
   "execution_count": 6,
   "id": "62491144-c1fb-41dd-9bf9-03fbe84eb56a",
   "metadata": {},
   "outputs": [
    {
     "data": {
      "application/json": {
       "choices": [
        {
         "finish_reason": "tool_calls",
         "index": 0,
         "logprobs": null,
         "message": {
          "annotations": [],
          "audio": null,
          "content": null,
          "function_call": null,
          "refusal": null,
          "role": "assistant",
          "tool_calls": [
           {
            "function": {
             "arguments": "{}",
             "name": "get_all_food_categories"
            },
            "id": "call_ovwCTbcxtP4P5bxbK8QeeWmr",
            "type": "function"
           },
           {
            "function": {
             "arguments": "{}",
             "name": "get_all_food_ingredients"
            },
            "id": "call_8A5sKsPlIvz6fLDUg5RLF0AZ",
            "type": "function"
           }
          ]
         }
        }
       ],
       "created": 1743606771,
       "id": "chatcmpl-BHu3nKrqWUp3zsJ5zkKaVcXg6BYVC",
       "model": "gpt-4o-mini-2024-07-18",
       "object": "chat.completion",
       "service_tier": "default",
       "system_fingerprint": "fp_b376dfbbd5",
       "usage": {
        "completion_tokens": 45,
        "completion_tokens_details": {
         "accepted_prediction_tokens": 0,
         "audio_tokens": 0,
         "reasoning_tokens": 0,
         "rejected_prediction_tokens": 0
        },
        "prompt_tokens": 598,
        "prompt_tokens_details": {
         "audio_tokens": 0,
         "cached_tokens": 0
        },
        "total_tokens": 643
       }
      },
      "text/plain": [
       "<IPython.core.display.JSON object>"
      ]
     },
     "metadata": {
      "application/json": {
       "expanded": false,
       "root": "root"
      }
     },
     "output_type": "display_data"
    },
    {
     "data": {
      "text/html": [
       "\n",
       "    <style>\n",
       "        .usage-table {\n",
       "            font-family: Arial, sans-serif;\n",
       "            font-size: 12px;\n",
       "            width: 70%;\n",
       "            border-collapse: collapse;\n",
       "            margin: 10px auto;\n",
       "        }\n",
       "        .usage-table th, .usage-table td {\n",
       "            padding: 6px 10px;\n",
       "            text-align: left;\n",
       "            border-bottom: 1px solid #ddd;\n",
       "        }\n",
       "        .usage-table th {\n",
       "            background-color: #007bff;\n",
       "            color: white;\n",
       "            text-align: center;\n",
       "        }\n",
       "        .input-row { background-color: #e3f2fd; }\n",
       "        .cached-row { background-color: #f1f8e9; }\n",
       "        .output-row { background-color: #ffebee; }\n",
       "        .total-row { background-color: #007bff; font-weight: bold; }\n",
       "    </style>\n",
       "    \n",
       "    <table class=\"usage-table\">\n",
       "        <tr>\n",
       "            <th>Type</th>\n",
       "            <th>Rate ($/1M)</th>\n",
       "            <th>Tokens</th>\n",
       "            <th>Cost ($)</th>\n",
       "        </tr>\n",
       "        <tr class=\"input-row\">\n",
       "            <td>Input 🔽</td>\n",
       "            <td>0.15</td>\n",
       "            <td>598</td>\n",
       "            <td>0.0000897000</td>\n",
       "        </tr>\n",
       "        <tr class=\"cached-row\">\n",
       "            <td>Cached Input 🔄</td>\n",
       "            <td>0.075</td>\n",
       "            <td>0</td>\n",
       "            <td>0.0000000000</td>\n",
       "        </tr>\n",
       "        <tr class=\"output-row\">\n",
       "            <td>Output 🔼</td>\n",
       "            <td>0.6</td>\n",
       "            <td>45</td>\n",
       "            <td>0.0000270000</td>\n",
       "        </tr>\n",
       "        <tr class=\"total-row\">\n",
       "            <td>Total 💰</td>\n",
       "            <td>—</td>\n",
       "            <td>—</td>\n",
       "            <td>0.0001167000</td>\n",
       "        </tr>\n",
       "    </table>\n",
       "    "
      ],
      "text/plain": [
       "<IPython.core.display.HTML object>"
      ]
     },
     "metadata": {},
     "output_type": "display_data"
    },
    {
     "name": "stdout",
     "output_type": "stream",
     "text": [
      "will make tool calls\n",
      "Function: get_all_food_categories\n",
      "Arguments: {}\n",
      "Function Response: ['Beef', 'Breakfast', 'Chicken', 'Dessert', 'Goat', 'Lamb', 'Miscellaneous', 'Pasta', 'Pork', 'Seafood', 'Side', 'Starter', 'Vegan', 'Vegetarian']\n",
      "Function: get_all_food_ingredients\n",
      "Arguments: {}\n",
      "Function Response: ['Chicken', 'Salmon', 'Beef', 'Pork', 'Avocado', 'Apple Cider Vinegar', 'Asparagus', 'Aubergine', 'Baby Plum Tomatoes', 'Bacon', 'Baking Powder', 'Balsamic Vinegar', 'Basil', 'Basil Leaves', 'Basmati Rice', 'Bay Leaf', 'Bay Leaves', 'Beef Brisket', 'Beef Fillet', 'Beef Gravy', 'Beef Stock', 'Bicarbonate Of Soda', 'Biryani Masala', 'Black Pepper', 'Black Treacle', 'Borlotti Beans', 'Bowtie Pasta', 'Bramley Apples', 'Brandy', 'Bread', 'Breadcrumbs', 'Broccoli', 'Brown Lentils', 'Brown Rice', 'Brown Sugar', 'Butter', 'Cacao', 'Cajun', 'Canned Tomatoes', 'Cannellini Beans', 'Cardamom', 'Carrots', 'Cashew Nuts', 'Cashews', 'Caster Sugar', 'Cayenne Pepper', 'Celeriac', 'Celery', 'Celery Salt', 'Challots', 'Charlotte Potatoes', 'Cheddar Cheese', 'Cheese', 'Cheese Curds', 'Cherry Tomatoes', 'Chestnut Mushroom', 'Chicken Breast', 'Chicken Breasts', 'Chicken Legs', 'Chicken Stock', 'Chicken Thighs', 'Chickpeas', 'Chili Powder', 'Chilled Butter', 'Chilli', 'Chilli Powder', 'Chinese Broccoli', 'Chocolate Chips', 'Chopped Onion', 'Chopped Parsley', 'Chopped Tomatoes', 'Chorizo', 'Christmas Pudding', 'Cilantro', 'Cinnamon', 'Cinnamon Stick', 'Cloves', 'Coco Sugar', 'Cocoa', 'Coconut Cream', 'Coconut Milk', 'Colby Jack Cheese', 'Cold Water', 'Condensed Milk', 'Coriander', 'Coriander Leaves', 'Coriander Seeds', 'Corn Tortillas', 'Cornstarch', 'Cream', 'Creme Fraiche', 'Cubed Feta Cheese', 'Cucumber', 'Cumin', 'Cumin Seeds', 'Curry Powder', 'Dark Brown Sugar', 'Dark Soft Brown Sugar', 'Dark Soy Sauce', 'Demerara Sugar', 'Diced Tomatoes', 'Digestive Biscuits', 'Dill', 'Doner Meat', 'Double Cream', 'Dried Oregano', 'Dry White Wine', 'Egg Plants', 'Egg Rolls', 'Egg White', 'Egg Yolks', 'Eggs', 'Enchilada Sauce', 'English Mustard', 'Extra Virgin Olive Oil', 'Fajita Seasoning', 'Farfalle', 'Fennel Bulb', 'Fennel Seeds', 'Fenugreek', 'Feta', 'Fish Sauce', 'Flaked Almonds', 'Flax Eggs', 'Flour', 'Flour Tortilla', 'Floury Potatoes', 'Free-range Egg, Beaten', 'Free-range Eggs, Beaten', 'French Lentils', 'Fresh Basil', 'Fresh Thyme', 'Freshly Chopped Parsley', 'Fries', 'Full Fat Yogurt', 'Garam Masala', 'Garlic', 'Garlic Clove', 'Garlic Powder', 'Garlic Sauce', 'Ghee', 'Ginger', 'Ginger Cordial', 'Ginger Garlic Paste', 'Ginger Paste', 'Golden Syrup', 'Gouda Cheese', 'Granulated Sugar', 'Grape Tomatoes', 'Greek Yogurt', 'Green Beans', 'Green Chilli', 'Green Olives', 'Green Red Lentils', 'Green Salsa', 'Ground Almonds', 'Ground Cumin', 'Ground Ginger', 'Gruyère', 'Hard Taco Shells', 'Harissa Spice', 'Heavy Cream', 'Honey', 'Horseradish', 'Hot Beef Stock', 'Hotsauce', 'Ice Cream', 'Italian Fennel Sausages', 'Italian Seasoning', 'Jalapeno', 'Jasmine Rice', 'Jerusalem Artichokes', 'Kale', 'Khus Khus', 'King Prawns', 'Kosher Salt', 'Lamb', 'Lamb Loin Chops', 'Lamb Mince', 'Lasagne Sheets', 'Lean Minced Beef', 'Leek', 'Lemon', 'Lemon Juice', 'Lemon Zest', 'Lemons', 'Lettuce', 'Lime', 'Little Gem Lettuce', 'Macaroni', 'Mackerel', 'Madras Paste', 'Marjoram', 'Massaman Curry Paste', 'Medjool Dates', 'Meringue Nests', 'Milk', 'Minced Garlic', 'Miniature Marshmallows', 'Mint', 'Monterey Jack Cheese', 'Mozzarella Balls', 'Muscovado Sugar', 'Mushrooms', 'Mustard', 'Mustard Powder', 'Mustard Seeds', 'Nutmeg', 'Oil', 'Olive Oil', 'Onion Salt', 'Onions', 'Orange', 'Orange Zest', 'Oregano', 'Oyster Sauce', 'Paprika', 'Parma Ham', 'Parmesan', 'Parmesan Cheese', 'Parmigiano-reggiano', 'Parsley', 'Peanut Butter', 'Peanut Oil', 'Peanuts', 'Peas', 'Pecorino', 'Penne Rigate', 'Pepper', 'Pine Nuts', 'Pitted Black Olives', 'Plain Chocolate', 'Plain Flour', 'Plum Tomatoes', 'Potato Starch', 'Potatoes', 'Prawns', 'Puff Pastry', 'Raspberry Jam', 'Raw King Prawns', 'Red Chilli Flakes', 'Red Chilli', 'Red Chilli Powder', 'Red Onions', 'Red Pepper', 'Red Pepper Flakes', 'Red Wine', 'Refried Beans', 'Rice', 'Rice Noodles', 'Rice Stick Noodles', 'Rice Vermicelli', 'Rigatoni', 'Rocket', 'Rolled Oats', 'Saffron', 'Sage', 'Sake', 'Salsa', 'Salt', 'Salted Butter', 'Sausages', 'Sea Salt', 'Self-raising Flour', 'Semi-skimmed Milk', 'Sesame Seed', 'Shallots', 'Shredded Mexican Cheese', 'Shredded Monterey Jack Cheese', 'Small Potatoes', 'Smoked Paprika', 'Smoky Paprika', 'Sour Cream', 'Soy Sauce', 'Soya Milk', 'Spaghetti', 'Spinach', 'Spring Onions', 'Squash', 'Stir-fry Vegetables', 'Strawberries', 'Sugar', 'Sultanas', 'Sunflower Oil', 'Tamarind Ball', 'Tamarind Paste', 'Thai Fish Sauce', 'Thai Green Curry Paste', 'Thai Red Curry Paste', 'Thyme', 'Tomato Ketchup', 'Tomato Puree', 'Tomatoes', 'Toor Dal', 'Tuna', 'Turmeric', 'Turmeric Powder', 'Turnips', 'Vanilla', 'Vanilla Extract', 'Veal', 'Vegan Butter', 'Vegetable Oil', 'Vegetable Stock', 'Vegetable Stock Cube', 'Vinaigrette Dressing', 'Vine Leaves', 'Vinegar', 'Water', 'White Chocolate Chips', 'White Fish', 'White Fish Fillets', 'White Vinegar', 'White Wine', 'Whole Milk', 'Whole Wheat', 'Wholegrain Bread', 'Worcestershire Sauce', 'Yogurt', 'Zucchini', 'Pretzels', 'Cream Cheese', 'Icing Sugar', 'Toffee Popcorn', 'Caramel', 'Caramel Sauce', 'Tagliatelle', 'Fettuccine', 'Clotted Cream', 'Corn Flour', 'Mussels', 'Fideo', 'Monkfish', 'Vermicelli Pasta', 'Baby Squid', 'Squid', 'Fish Stock', 'Pilchards', 'Black Olives', 'Onion', 'Tomato', 'Duck', 'Duck Legs', 'Chicken Stock Cube', 'Pappardelle Pasta', 'Paccheri Pasta', 'Linguine Pasta', 'Sugar Snap Peas', 'Crusty Bread', 'Fromage Frais', 'Clams', 'Passata', 'Rapeseed Oil', 'Stilton Cheese', 'Lamb Leg', 'Lamb Shoulder', 'Apricot', 'Butternut Squash', 'Couscous', 'Minced Beef', 'Turkey Mince', 'Barbeque Sauce', 'Sweetcorn', 'Goose Fat', 'Duck Fat', 'Fennel', 'Red Wine Vinegar', 'Haricot Beans', 'Rosemary', 'Butter Beans', 'Pinto Beans', 'Tomato Sauce', 'Mascarpone', 'Mozzarella', 'Ricotta', 'Dried Apricots', 'Capers', 'Banana', 'Raspberries', 'Blueberries', 'Walnuts', 'Pecan Nuts', 'Maple Syrup', 'Light Brown Soft Sugar', 'Dark Brown Soft Sugar', 'Dark Chocolate Chips', 'Milk Chocolate', 'Dark Chocolate', 'Pumpkin', 'Shortcrust Pastry', 'Peanut Cookies', 'Gelatine Leafs', 'Peanut Brittle', 'Peaches', 'Yellow Pepper', 'Green Pepper', 'Courgettes', 'Tinned Tomatos', 'Chestnuts', 'Wild Mushrooms', 'Truffle Oil', 'Paneer', 'Naan Bread', 'Lentils', 'Roasted Vegetables', 'Kidney Beans', 'Mixed Grain', 'Tahini', 'Tortillas', 'Udon Noodles', 'Cabbage', 'Shiitake Mushrooms', 'Mirin', 'Sesame Seed Oil', 'Baguette', 'Vine Tomatoes', 'Suet', 'Swede', 'Ham', 'Oysters', 'Stout', 'Lard', 'Lamb Kidney', 'Beef Kidney', 'Haddock', 'Smoked Haddock', 'Brussels Sprouts', 'Raisins', 'Currants', 'Custard', 'Mixed Peel', 'Redcurrants', 'Blackberries', 'Hazlenuts', 'Braeburn Apples', 'Red Food Colouring', 'Pink Food Colouring', 'Blue Food Colouring', 'Yellow Food Colouring', 'Apricot Jam', 'Marzipan', 'Almonds', 'Black Pudding', 'Baked Beans', 'White Flour', 'Yeast', 'Fruit Mix', 'Dried Fruit', 'Cherry', 'Glace Cherry', 'Treacle', 'Oatmeal', 'Oats', 'Egg', 'Beef Shin', 'Bouquet Garni', 'Single Cream', 'Red Wine Jelly', 'Apples', 'Goats Cheese', 'Prosciutto', 'Unsalted Butter', 'Brie', 'Tarragon Leaves', 'Chives', 'Pears', 'White Chocolate', 'Star Anise', 'Tiger Prawns', 'Custard Powder', 'Desiccated Coconut', 'Frozen Peas', 'Minced Pork', 'Creamed Corn', 'Sun-Dried Tomatoes', 'Dijon Mustard', 'Tabasco Sauce', 'Canola Oil', 'Cod', 'Salt Cod', 'Ackee', 'Jerk', 'Ground Beef', 'Baby Aubergine', 'Paella Rice', 'Scotch Bonnet', 'Oxtail', 'Broad Beans', 'Red Snapper', 'Malt Vinegar', 'Rice Vinegar', 'Water Chestnut', 'Tofu', 'Doubanjiang', 'Fermented Black Beans', 'Scallions', 'Sichuan Pepper', 'Wonton Skin', 'Starch', 'Rice wine', 'Cooking wine', 'Duck Sauce', 'Gochujang', 'Bean Sprouts', 'Noodles', 'Wood Ear Mushrooms', 'Dark Rum', 'Light Rum', 'Rum', 'English Muffins', 'Muffins', 'White Wine Vinegar', 'Smoked Salmon', 'Mars Bar', 'Rice Krispies', 'Ancho Chillies', 'Almond Milk', 'Allspice', 'Almond Extract', 'Tripe', 'Goat Meat', 'Black Beans', 'Anchovy Fillet', 'Ras el hanout', 'Filo Pastry', 'Orange Blossom Water', 'Candied Peel', 'Grand Marnier', 'Sherry', 'Rose water', 'Mixed Spice', 'Mincemeat', 'Sweet Potatoes', 'Bread Rolls', 'Bun', 'Potatoe Buns', 'Ground Pork', 'Pork Chops', 'Yukon Gold Potatoes', 'Yellow Onion', 'Beef Stock Concentrate', 'Chicken Stock Concentrate', 'Persian Cucumber', 'Mayonnaise', 'Sriracha', 'Rhubarb', 'Pita Bread', 'Bulgur Wheat', 'Quinoa', 'Dill Pickles', 'Sesame Seed Burger Buns', 'Buns', 'Iceberg Lettuce', 'Gherkin Relish', 'Cheese Slices', 'Shortening', 'Warm Water', 'Boiling Water', 'Pickle Juice', 'Powdered Sugar', 'Kielbasa', 'Polish Sausage', 'Sauerkraut', 'Caraway Seed', 'Herring', 'Jam', 'Mulukhiyah', 'Sushi Rice', 'Figs', 'Cider', 'Beetroot', 'Sardines', 'Ciabatta', 'Buckwheat', 'Prunes']\n"
     ]
    },
    {
     "data": {
      "application/json": {
       "choices": [
        {
         "finish_reason": "stop",
         "index": 0,
         "logprobs": null,
         "message": {
          "annotations": [],
          "audio": null,
          "content": "Hello! I'm an expert nutritionist, meal planner, and health coach. I'm here to help you achieve your health objectives through tailored meal suggestions. \n\nTo get started, could you please share your health goals? Are you looking to lose weight, gain muscle, maintain a healthy lifestyle, or something else? Additionally, do you have any dietary preferences or restrictions, such as vegetarian, vegan, or specific food allergies? \n\nOnce I have that information, I can provide you with meal options that align with your goals!",
          "function_call": null,
          "refusal": null,
          "role": "assistant",
          "tool_calls": null
         }
        }
       ],
       "created": 1743606774,
       "id": "chatcmpl-BHu3qua56xHDGXMfTpeVlbtAzE0HG",
       "model": "gpt-4o-mini-2024-07-18",
       "object": "chat.completion",
       "service_tier": "default",
       "system_fingerprint": "fp_b376dfbbd5",
       "usage": {
        "completion_tokens": 105,
        "completion_tokens_details": {
         "accepted_prediction_tokens": 0,
         "audio_tokens": 0,
         "reasoning_tokens": 0,
         "rejected_prediction_tokens": 0
        },
        "prompt_tokens": 3584,
        "prompt_tokens_details": {
         "audio_tokens": 0,
         "cached_tokens": 3456
        },
        "total_tokens": 3689
       }
      },
      "text/plain": [
       "<IPython.core.display.JSON object>"
      ]
     },
     "metadata": {
      "application/json": {
       "expanded": false,
       "root": "root"
      }
     },
     "output_type": "display_data"
    },
    {
     "data": {
      "text/html": [
       "\n",
       "    <style>\n",
       "        .usage-table {\n",
       "            font-family: Arial, sans-serif;\n",
       "            font-size: 12px;\n",
       "            width: 70%;\n",
       "            border-collapse: collapse;\n",
       "            margin: 10px auto;\n",
       "        }\n",
       "        .usage-table th, .usage-table td {\n",
       "            padding: 6px 10px;\n",
       "            text-align: left;\n",
       "            border-bottom: 1px solid #ddd;\n",
       "        }\n",
       "        .usage-table th {\n",
       "            background-color: #007bff;\n",
       "            color: white;\n",
       "            text-align: center;\n",
       "        }\n",
       "        .input-row { background-color: #e3f2fd; }\n",
       "        .cached-row { background-color: #f1f8e9; }\n",
       "        .output-row { background-color: #ffebee; }\n",
       "        .total-row { background-color: #007bff; font-weight: bold; }\n",
       "    </style>\n",
       "    \n",
       "    <table class=\"usage-table\">\n",
       "        <tr>\n",
       "            <th>Type</th>\n",
       "            <th>Rate ($/1M)</th>\n",
       "            <th>Tokens</th>\n",
       "            <th>Cost ($)</th>\n",
       "        </tr>\n",
       "        <tr class=\"input-row\">\n",
       "            <td>Input 🔽</td>\n",
       "            <td>0.15</td>\n",
       "            <td>3584</td>\n",
       "            <td>0.0005376000</td>\n",
       "        </tr>\n",
       "        <tr class=\"cached-row\">\n",
       "            <td>Cached Input 🔄</td>\n",
       "            <td>0.075</td>\n",
       "            <td>3456</td>\n",
       "            <td>0.0002592000</td>\n",
       "        </tr>\n",
       "        <tr class=\"output-row\">\n",
       "            <td>Output 🔼</td>\n",
       "            <td>0.6</td>\n",
       "            <td>105</td>\n",
       "            <td>0.0000630000</td>\n",
       "        </tr>\n",
       "        <tr class=\"total-row\">\n",
       "            <td>Total 💰</td>\n",
       "            <td>—</td>\n",
       "            <td>—</td>\n",
       "            <td>0.0008598000</td>\n",
       "        </tr>\n",
       "    </table>\n",
       "    "
      ],
      "text/plain": [
       "<IPython.core.display.HTML object>"
      ]
     },
     "metadata": {},
     "output_type": "display_data"
    },
    {
     "name": "stdout",
     "output_type": "stream",
     "text": [
      "Hello! I'm an expert nutritionist, meal planner, and health coach. I'm here to help you achieve your health objectives through tailored meal suggestions. \n",
      "\n",
      "To get started, could you please share your health goals? Are you looking to lose weight, gain muscle, maintain a healthy lifestyle, or something else? Additionally, do you have any dietary preferences or restrictions, such as vegetarian, vegan, or specific food allergies? \n",
      "\n",
      "Once I have that information, I can provide you with meal options that align with your goals!\n"
     ]
    }
   ],
   "source": [
    "conversation_log.append(initialize_conversation())\n",
    "response = get_chat_model_completions(conversation_log, themealdb_tools)\n",
    "print(response)\n",
    "append_message_to_conversation(conversation_log, response, 'assistant')"
   ]
  },
  {
   "cell_type": "code",
   "execution_count": 8,
   "id": "e81b7dc9-e9da-4920-8587-e68cbc9c16e4",
   "metadata": {},
   "outputs": [
    {
     "data": {
      "application/json": {
       "choices": [
        {
         "finish_reason": "stop",
         "index": 0,
         "logprobs": null,
         "message": {
          "annotations": [],
          "audio": null,
          "content": "Great to meet you, Suyash! It's fantastic that you're focused on improving your strength and endurance for football. To help you achieve your goals of losing weight, gaining strength, and enhancing your running stamina, I’d like to know about your food preferences. \n\nDo you have any specific dietary categories you follow, such as vegan, vegetarian, or do you eat meat? Also, are there any particular foods you love or dislike? This will help me tailor the meal suggestions to your taste!",
          "function_call": null,
          "refusal": null,
          "role": "assistant",
          "tool_calls": null
         }
        }
       ],
       "created": 1743603628,
       "id": "chatcmpl-BHtF66p46aCL3LUriTVPHGn63ii1k",
       "model": "gpt-4o-mini-2024-07-18",
       "object": "chat.completion",
       "service_tier": "default",
       "system_fingerprint": "fp_b376dfbbd5",
       "usage": {
        "completion_tokens": 100,
        "completion_tokens_details": {
         "accepted_prediction_tokens": 0,
         "audio_tokens": 0,
         "reasoning_tokens": 0,
         "rejected_prediction_tokens": 0
        },
        "prompt_tokens": 3660,
        "prompt_tokens_details": {
         "audio_tokens": 0,
         "cached_tokens": 0
        },
        "total_tokens": 3760
       }
      },
      "text/plain": [
       "<IPython.core.display.JSON object>"
      ]
     },
     "metadata": {
      "application/json": {
       "expanded": false,
       "root": "root"
      }
     },
     "output_type": "display_data"
    },
    {
     "data": {
      "text/html": [
       "\n",
       "    <style>\n",
       "        .usage-table {\n",
       "            font-family: Arial, sans-serif;\n",
       "            font-size: 12px;\n",
       "            width: 70%;\n",
       "            border-collapse: collapse;\n",
       "            margin: 10px auto;\n",
       "        }\n",
       "        .usage-table th, .usage-table td {\n",
       "            padding: 6px 10px;\n",
       "            text-align: left;\n",
       "            border-bottom: 1px solid #ddd;\n",
       "        }\n",
       "        .usage-table th {\n",
       "            background-color: #007bff;\n",
       "            color: white;\n",
       "            text-align: center;\n",
       "        }\n",
       "        .input-row { background-color: #e3f2fd; }\n",
       "        .cached-row { background-color: #f1f8e9; }\n",
       "        .output-row { background-color: #ffebee; }\n",
       "        .total-row { background-color: #007bff; font-weight: bold; }\n",
       "    </style>\n",
       "    \n",
       "    <table class=\"usage-table\">\n",
       "        <tr>\n",
       "            <th>Type</th>\n",
       "            <th>Rate ($/1M)</th>\n",
       "            <th>Tokens</th>\n",
       "            <th>Cost ($)</th>\n",
       "        </tr>\n",
       "        <tr class=\"input-row\">\n",
       "            <td>Input 🔽</td>\n",
       "            <td>0.15</td>\n",
       "            <td>3660</td>\n",
       "            <td>0.0005490000</td>\n",
       "        </tr>\n",
       "        <tr class=\"cached-row\">\n",
       "            <td>Cached Input 🔄</td>\n",
       "            <td>0.075</td>\n",
       "            <td>0</td>\n",
       "            <td>0.0000000000</td>\n",
       "        </tr>\n",
       "        <tr class=\"output-row\">\n",
       "            <td>Output 🔼</td>\n",
       "            <td>0.6</td>\n",
       "            <td>100</td>\n",
       "            <td>0.0000600000</td>\n",
       "        </tr>\n",
       "        <tr class=\"total-row\">\n",
       "            <td>Total 💰</td>\n",
       "            <td>—</td>\n",
       "            <td>—</td>\n",
       "            <td>0.0006090000</td>\n",
       "        </tr>\n",
       "    </table>\n",
       "    "
      ],
      "text/plain": [
       "<IPython.core.display.HTML object>"
      ]
     },
     "metadata": {},
     "output_type": "display_data"
    },
    {
     "name": "stdout",
     "output_type": "stream",
     "text": [
      "Great to meet you, Suyash! It's fantastic that you're focused on improving your strength and endurance for football. To help you achieve your goals of losing weight, gaining strength, and enhancing your running stamina, I’d like to know about your food preferences. \n",
      "\n",
      "Do you have any specific dietary categories you follow, such as vegan, vegetarian, or do you eat meat? Also, are there any particular foods you love or dislike? This will help me tailor the meal suggestions to your taste!\n"
     ]
    }
   ],
   "source": [
    "prompt = 'Hi, I am Suyash. I play football. I want to lose weight, gain strength and improve my running endurance and stamina'\n",
    "append_message_to_conversation(conversation_log, prompt, 'user')\n",
    "response = get_chat_model_completions(conversation_log)\n",
    "print(response)\n",
    "append_message_to_conversation(conversation_log, response, 'assistant')"
   ]
  },
  {
   "cell_type": "code",
   "execution_count": 8,
   "id": "bee7d4a3-5e5e-4b0f-ab59-1c53bbf2f114",
   "metadata": {},
   "outputs": [
    {
     "data": {
      "application/json": {
       "choices": [
        {
         "finish_reason": "stop",
         "index": 0,
         "logprobs": null,
         "message": {
          "annotations": [],
          "audio": null,
          "content": "Thank you for sharing that you're a vegetarian! Now that I know your dietary preference, I can suggest meals that align with your vegetarian lifestyle. \n\nLet me provide you with a selection of vegetarian meals that are nutritious and delicious. Here are a few examples of ingredients I might use: Quinoa, Tofu, and Spinach. \n\nNow, I'll create a list of meals tailored to your vegetarian diet. Please hold on for a moment!",
          "function_call": null,
          "refusal": null,
          "role": "assistant",
          "tool_calls": null
         }
        }
       ],
       "created": 1743606799,
       "id": "chatcmpl-BHu4FVnpPpD0xUuNEzy6iHXRF60sq",
       "model": "gpt-4o-mini-2024-07-18",
       "object": "chat.completion",
       "service_tier": "default",
       "system_fingerprint": "fp_b376dfbbd5",
       "usage": {
        "completion_tokens": 89,
        "completion_tokens_details": {
         "accepted_prediction_tokens": 0,
         "audio_tokens": 0,
         "reasoning_tokens": 0,
         "rejected_prediction_tokens": 0
        },
        "prompt_tokens": 3744,
        "prompt_tokens_details": {
         "audio_tokens": 0,
         "cached_tokens": 0
        },
        "total_tokens": 3833
       }
      },
      "text/plain": [
       "<IPython.core.display.JSON object>"
      ]
     },
     "metadata": {
      "application/json": {
       "expanded": false,
       "root": "root"
      }
     },
     "output_type": "display_data"
    },
    {
     "data": {
      "text/html": [
       "\n",
       "    <style>\n",
       "        .usage-table {\n",
       "            font-family: Arial, sans-serif;\n",
       "            font-size: 12px;\n",
       "            width: 70%;\n",
       "            border-collapse: collapse;\n",
       "            margin: 10px auto;\n",
       "        }\n",
       "        .usage-table th, .usage-table td {\n",
       "            padding: 6px 10px;\n",
       "            text-align: left;\n",
       "            border-bottom: 1px solid #ddd;\n",
       "        }\n",
       "        .usage-table th {\n",
       "            background-color: #007bff;\n",
       "            color: white;\n",
       "            text-align: center;\n",
       "        }\n",
       "        .input-row { background-color: #e3f2fd; }\n",
       "        .cached-row { background-color: #f1f8e9; }\n",
       "        .output-row { background-color: #ffebee; }\n",
       "        .total-row { background-color: #007bff; font-weight: bold; }\n",
       "    </style>\n",
       "    \n",
       "    <table class=\"usage-table\">\n",
       "        <tr>\n",
       "            <th>Type</th>\n",
       "            <th>Rate ($/1M)</th>\n",
       "            <th>Tokens</th>\n",
       "            <th>Cost ($)</th>\n",
       "        </tr>\n",
       "        <tr class=\"input-row\">\n",
       "            <td>Input 🔽</td>\n",
       "            <td>0.15</td>\n",
       "            <td>3744</td>\n",
       "            <td>0.0005616000</td>\n",
       "        </tr>\n",
       "        <tr class=\"cached-row\">\n",
       "            <td>Cached Input 🔄</td>\n",
       "            <td>0.075</td>\n",
       "            <td>0</td>\n",
       "            <td>0.0000000000</td>\n",
       "        </tr>\n",
       "        <tr class=\"output-row\">\n",
       "            <td>Output 🔼</td>\n",
       "            <td>0.6</td>\n",
       "            <td>89</td>\n",
       "            <td>0.0000534000</td>\n",
       "        </tr>\n",
       "        <tr class=\"total-row\">\n",
       "            <td>Total 💰</td>\n",
       "            <td>—</td>\n",
       "            <td>—</td>\n",
       "            <td>0.0006150000</td>\n",
       "        </tr>\n",
       "    </table>\n",
       "    "
      ],
      "text/plain": [
       "<IPython.core.display.HTML object>"
      ]
     },
     "metadata": {},
     "output_type": "display_data"
    },
    {
     "name": "stdout",
     "output_type": "stream",
     "text": [
      "Thank you for sharing that you're a vegetarian! Now that I know your dietary preference, I can suggest meals that align with your vegetarian lifestyle. \n",
      "\n",
      "Let me provide you with a selection of vegetarian meals that are nutritious and delicious. Here are a few examples of ingredients I might use: Quinoa, Tofu, and Spinach. \n",
      "\n",
      "Now, I'll create a list of meals tailored to your vegetarian diet. Please hold on for a moment!\n"
     ]
    }
   ],
   "source": [
    "prompt = 'I am a vegetarian'\n",
    "append_message_to_conversation(conversation_log, prompt, 'user')\n",
    "response = get_chat_model_completions(conversation_log)\n",
    "print(response)\n",
    "append_message_to_conversation(conversation_log, response, 'assistant')"
   ]
  },
  {
   "cell_type": "code",
   "execution_count": 10,
   "id": "3d1b6db9-892f-4a43-8cf4-d7037186eb77",
   "metadata": {},
   "outputs": [
    {
     "data": {
      "application/json": {
       "choices": [
        {
         "finish_reason": "stop",
         "index": 0,
         "logprobs": null,
         "message": {
          "annotations": [],
          "audio": null,
          "content": "{\n  \"meals\": [\n    {\n      \"meal_name\": \"Grilled Chicken Quinoa Bowl\",\n      \"nutrients\": \"High in protein, fiber, and healthy fats\",\n      \"ingredients\": [\n        \"Chicken Breast\",\n        \"Quinoa\",\n        \"Avocado\",\n        \"Spinach\",\n        \"Cherry Tomatoes\",\n        \"Olive Oil\"\n      ],\n      \"main_ingredient\": \"Chicken Breast\",\n      \"food_category\": \"Main Course\",\n      \"description\": \"This meal is packed with protein from the chicken, which helps in muscle recovery and strength gain. Quinoa provides complex carbohydrates for sustained energy, while spinach and tomatoes add essential vitamins.\"\n    },\n    {\n      \"meal_name\": \"Salmon and Asparagus\",\n      \"nutrients\": \"Rich in omega-3 fatty acids, protein, and vitamins\",\n      \"ingredients\": [\n        \"Salmon\",\n        \"Asparagus\",\n        \"Olive Oil\",\n        \"Lemon\",\n        \"Garlic\"\n      ],\n      \"main_ingredient\": \"Salmon\",\n      \"food_category\": \"Main Course\",\n      \"description\": \"Salmon is an excellent source of protein and omega-3 fatty acids, which are beneficial for heart health and muscle recovery. Asparagus adds fiber and essential vitamins, making this a balanced meal for endurance athletes.\"\n    },\n    {\n      \"meal_name\": \"Chickpea Salad\",\n      \"nutrients\": \"High in protein, fiber, and antioxidants\",\n      \"ingredients\": [\n        \"Chickpeas\",\n        \"Cucumber\",\n        \"Tomatoes\",\n        \"Red Onion\",\n        \"Olive Oil\",\n        \"Lemon Juice\"\n      ],\n      \"main_ingredient\": \"Chickpeas\",\n      \"food_category\": \"Side\",\n      \"description\": \"This refreshing salad is packed with protein from chickpeas and is rich in fiber, which aids in digestion and keeps you full longer. The fresh vegetables provide essential vitamins and minerals for overall health.\"\n    },\n    {\n      \"meal_name\": \"Vegetable Stir-Fry with Tofu\",\n      \"nutrients\": \"High in protein, vitamins, and minerals\",\n      \"ingredients\": [\n        \"Tofu\",\n        \"Broccoli\",\n        \"Bell Peppers\",\n        \"Carrots\",\n        \"Soy Sauce\",\n        \"Ginger\"\n      ],\n      \"main_ingredient\": \"Tofu\",\n      \"food_category\": \"Main Course\",\n      \"description\": \"Tofu is a great source of plant-based protein, and the colorful vegetables provide a variety of nutrients. This stir-fry is low in calories but high in flavor, making it perfect for weight loss and muscle gain.\"\n    },\n    {\n      \"meal_name\": \"Oatmeal with Berries\",\n      \"nutrients\": \"High in fiber, antioxidants, and healthy carbohydrates\",\n      \"ingredients\": [\n        \"Rolled Oats\",\n        \"Blueberries\",\n        \"Almonds\",\n        \"Honey\",\n        \"Milk\"\n      ],\n      \"main_ingredient\": \"Rolled Oats\",\n      \"food_category\": \"Breakfast\",\n      \"description\": \"Oatmeal is a fantastic source of complex carbohydrates that provide sustained energy for your workouts. Topped with berries and almonds, this meal is rich in antioxidants and healthy fats, supporting your overall health and performance.\"\n    }\n  ]\n}",
          "function_call": null,
          "refusal": null,
          "role": "assistant",
          "tool_calls": null
         }
        }
       ],
       "created": 1743603711,
       "id": "chatcmpl-BHtGRFnvpbZj1xOsPGr3NlXE8YKF9",
       "model": "gpt-4o-mini-2024-07-18",
       "object": "chat.completion",
       "service_tier": "default",
       "system_fingerprint": "fp_b376dfbbd5",
       "usage": {
        "completion_tokens": 686,
        "completion_tokens_details": {
         "accepted_prediction_tokens": 0,
         "audio_tokens": 0,
         "reasoning_tokens": 0,
         "rejected_prediction_tokens": 0
        },
        "prompt_tokens": 4520,
        "prompt_tokens_details": {
         "audio_tokens": 0,
         "cached_tokens": 4480
        },
        "total_tokens": 5206
       }
      },
      "text/plain": [
       "<IPython.core.display.JSON object>"
      ]
     },
     "metadata": {
      "application/json": {
       "expanded": false,
       "root": "root"
      }
     },
     "output_type": "display_data"
    },
    {
     "data": {
      "text/html": [
       "\n",
       "    <style>\n",
       "        .usage-table {\n",
       "            font-family: Arial, sans-serif;\n",
       "            font-size: 12px;\n",
       "            width: 70%;\n",
       "            border-collapse: collapse;\n",
       "            margin: 10px auto;\n",
       "        }\n",
       "        .usage-table th, .usage-table td {\n",
       "            padding: 6px 10px;\n",
       "            text-align: left;\n",
       "            border-bottom: 1px solid #ddd;\n",
       "        }\n",
       "        .usage-table th {\n",
       "            background-color: #007bff;\n",
       "            color: white;\n",
       "            text-align: center;\n",
       "        }\n",
       "        .input-row { background-color: #e3f2fd; }\n",
       "        .cached-row { background-color: #f1f8e9; }\n",
       "        .output-row { background-color: #ffebee; }\n",
       "        .total-row { background-color: #007bff; font-weight: bold; }\n",
       "    </style>\n",
       "    \n",
       "    <table class=\"usage-table\">\n",
       "        <tr>\n",
       "            <th>Type</th>\n",
       "            <th>Rate ($/1M)</th>\n",
       "            <th>Tokens</th>\n",
       "            <th>Cost ($)</th>\n",
       "        </tr>\n",
       "        <tr class=\"input-row\">\n",
       "            <td>Input 🔽</td>\n",
       "            <td>0.15</td>\n",
       "            <td>4520</td>\n",
       "            <td>0.0006780000</td>\n",
       "        </tr>\n",
       "        <tr class=\"cached-row\">\n",
       "            <td>Cached Input 🔄</td>\n",
       "            <td>0.075</td>\n",
       "            <td>4480</td>\n",
       "            <td>0.0003360000</td>\n",
       "        </tr>\n",
       "        <tr class=\"output-row\">\n",
       "            <td>Output 🔼</td>\n",
       "            <td>0.6</td>\n",
       "            <td>686</td>\n",
       "            <td>0.0004116000</td>\n",
       "        </tr>\n",
       "        <tr class=\"total-row\">\n",
       "            <td>Total 💰</td>\n",
       "            <td>—</td>\n",
       "            <td>—</td>\n",
       "            <td>0.0014256000</td>\n",
       "        </tr>\n",
       "    </table>\n",
       "    "
      ],
      "text/plain": [
       "<IPython.core.display.HTML object>"
      ]
     },
     "metadata": {},
     "output_type": "display_data"
    },
    {
     "name": "stdout",
     "output_type": "stream",
     "text": [
      "{\n",
      "  \"meals\": [\n",
      "    {\n",
      "      \"meal_name\": \"Grilled Chicken Quinoa Bowl\",\n",
      "      \"nutrients\": \"High in protein, fiber, and healthy fats\",\n",
      "      \"ingredients\": [\n",
      "        \"Chicken Breast\",\n",
      "        \"Quinoa\",\n",
      "        \"Avocado\",\n",
      "        \"Spinach\",\n",
      "        \"Cherry Tomatoes\",\n",
      "        \"Olive Oil\"\n",
      "      ],\n",
      "      \"main_ingredient\": \"Chicken Breast\",\n",
      "      \"food_category\": \"Main Course\",\n",
      "      \"description\": \"This meal is packed with protein from the chicken, which helps in muscle recovery and strength gain. Quinoa provides complex carbohydrates for sustained energy, while spinach and tomatoes add essential vitamins.\"\n",
      "    },\n",
      "    {\n",
      "      \"meal_name\": \"Salmon and Asparagus\",\n",
      "      \"nutrients\": \"Rich in omega-3 fatty acids, protein, and vitamins\",\n",
      "      \"ingredients\": [\n",
      "        \"Salmon\",\n",
      "        \"Asparagus\",\n",
      "        \"Olive Oil\",\n",
      "        \"Lemon\",\n",
      "        \"Garlic\"\n",
      "      ],\n",
      "      \"main_ingredient\": \"Salmon\",\n",
      "      \"food_category\": \"Main Course\",\n",
      "      \"description\": \"Salmon is an excellent source of protein and omega-3 fatty acids, which are beneficial for heart health and muscle recovery. Asparagus adds fiber and essential vitamins, making this a balanced meal for endurance athletes.\"\n",
      "    },\n",
      "    {\n",
      "      \"meal_name\": \"Chickpea Salad\",\n",
      "      \"nutrients\": \"High in protein, fiber, and antioxidants\",\n",
      "      \"ingredients\": [\n",
      "        \"Chickpeas\",\n",
      "        \"Cucumber\",\n",
      "        \"Tomatoes\",\n",
      "        \"Red Onion\",\n",
      "        \"Olive Oil\",\n",
      "        \"Lemon Juice\"\n",
      "      ],\n",
      "      \"main_ingredient\": \"Chickpeas\",\n",
      "      \"food_category\": \"Side\",\n",
      "      \"description\": \"This refreshing salad is packed with protein from chickpeas and is rich in fiber, which aids in digestion and keeps you full longer. The fresh vegetables provide essential vitamins and minerals for overall health.\"\n",
      "    },\n",
      "    {\n",
      "      \"meal_name\": \"Vegetable Stir-Fry with Tofu\",\n",
      "      \"nutrients\": \"High in protein, vitamins, and minerals\",\n",
      "      \"ingredients\": [\n",
      "        \"Tofu\",\n",
      "        \"Broccoli\",\n",
      "        \"Bell Peppers\",\n",
      "        \"Carrots\",\n",
      "        \"Soy Sauce\",\n",
      "        \"Ginger\"\n",
      "      ],\n",
      "      \"main_ingredient\": \"Tofu\",\n",
      "      \"food_category\": \"Main Course\",\n",
      "      \"description\": \"Tofu is a great source of plant-based protein, and the colorful vegetables provide a variety of nutrients. This stir-fry is low in calories but high in flavor, making it perfect for weight loss and muscle gain.\"\n",
      "    },\n",
      "    {\n",
      "      \"meal_name\": \"Oatmeal with Berries\",\n",
      "      \"nutrients\": \"High in fiber, antioxidants, and healthy carbohydrates\",\n",
      "      \"ingredients\": [\n",
      "        \"Rolled Oats\",\n",
      "        \"Blueberries\",\n",
      "        \"Almonds\",\n",
      "        \"Honey\",\n",
      "        \"Milk\"\n",
      "      ],\n",
      "      \"main_ingredient\": \"Rolled Oats\",\n",
      "      \"food_category\": \"Breakfast\",\n",
      "      \"description\": \"Oatmeal is a fantastic source of complex carbohydrates that provide sustained energy for your workouts. Topped with berries and almonds, this meal is rich in antioxidants and healthy fats, supporting your overall health and performance.\"\n",
      "    }\n",
      "  ]\n",
      "}\n"
     ]
    }
   ],
   "source": [
    "prompt = 'can you give the response in proper json format'\n",
    "append_message_to_conversation(conversation_log, prompt, 'user')\n",
    "response = get_chat_model_completions(conversation_log)\n",
    "print(response)\n",
    "append_message_to_conversation(conversation_log, response, 'assistant')"
   ]
  },
  {
   "cell_type": "code",
   "execution_count": 21,
   "id": "16d20a64-9009-4924-b6d1-055a8c87de7c",
   "metadata": {},
   "outputs": [],
   "source": [
    "def intent_confirmation(response_mealcoach_assistant):\n",
    "    delimiter = \"#######\"\n",
    "    prompt = f\"\"\"\n",
    "        You are a senior evaluator and a python expert.\n",
    "        You will go through the text and find out if it contains a list of meals.\n",
    "        Each and every meal item should contain the keys meal_name, nutrients, ingredients, main_ingredient, food_category, description.\n",
    "\n",
    "        {delimiter}\n",
    "        You all the keys are definitely present, then and only then you will respond with a \"yes\". Otherwise you will respond with a \"no\"\n",
    "\n",
    "        {delimiter}\n",
    "        Here is your input: {response_mealcoach_assistant}\n",
    "        \n",
    "    \"\"\"\n",
    "\n",
    "    conversation = [{\"role\": \"system\", \"content\": prompt}]\n",
    "    response = get_chat_model_completions(conversation)\n",
    "    return response"
   ]
  },
  {
   "cell_type": "code",
   "execution_count": 20,
   "id": "2832e7c1-62b9-4f04-88ce-9cd1f1e546aa",
   "metadata": {},
   "outputs": [
    {
     "data": {
      "text/plain": [
       "'{\\n  \"meals\": [\\n    {\\n      \"meal_name\": \"Grilled Chicken Quinoa Bowl\",\\n      \"nutrients\": \"High in protein, fiber, and healthy fats\",\\n      \"ingredients\": [\\n        \"Chicken Breast\",\\n        \"Quinoa\",\\n        \"Avocado\",\\n        \"Spinach\",\\n        \"Cherry Tomatoes\",\\n        \"Olive Oil\"\\n      ],\\n      \"main_ingredient\": \"Chicken Breast\",\\n      \"food_category\": \"Main Course\",\\n      \"description\": \"This meal is packed with protein from the chicken, which helps in muscle recovery and strength gain. Quinoa provides complex carbohydrates for sustained energy, while spinach and tomatoes add essential vitamins.\"\\n    },\\n    {\\n      \"meal_name\": \"Salmon and Asparagus\",\\n      \"nutrients\": \"Rich in omega-3 fatty acids, protein, and vitamins\",\\n      \"ingredients\": [\\n        \"Salmon\",\\n        \"Asparagus\",\\n        \"Olive Oil\",\\n        \"Lemon\",\\n        \"Garlic\"\\n      ],\\n      \"main_ingredient\": \"Salmon\",\\n      \"food_category\": \"Main Course\",\\n      \"description\": \"Salmon is an excellent source of protein and omega-3 fatty acids, which are beneficial for heart health and muscle recovery. Asparagus adds fiber and essential vitamins, making this a balanced meal for endurance athletes.\"\\n    },\\n    {\\n      \"meal_name\": \"Chickpea Salad\",\\n      \"nutrients\": \"High in protein, fiber, and antioxidants\",\\n      \"ingredients\": [\\n        \"Chickpeas\",\\n        \"Cucumber\",\\n        \"Tomatoes\",\\n        \"Red Onion\",\\n        \"Olive Oil\",\\n        \"Lemon Juice\"\\n      ],\\n      \"main_ingredient\": \"Chickpeas\",\\n      \"food_category\": \"Side\",\\n      \"description\": \"This refreshing salad is packed with protein from chickpeas and is rich in fiber, which aids in digestion and keeps you full longer. The fresh vegetables provide essential vitamins and minerals for overall health.\"\\n    },\\n    {\\n      \"meal_name\": \"Vegetable Stir-Fry with Tofu\",\\n      \"nutrients\": \"High in protein, vitamins, and minerals\",\\n      \"ingredients\": [\\n        \"Tofu\",\\n        \"Broccoli\",\\n        \"Bell Peppers\",\\n        \"Carrots\",\\n        \"Soy Sauce\",\\n        \"Ginger\"\\n      ],\\n      \"main_ingredient\": \"Tofu\",\\n      \"food_category\": \"Main Course\",\\n      \"description\": \"Tofu is a great source of plant-based protein, and the colorful vegetables provide a variety of nutrients. This stir-fry is low in calories but high in flavor, making it perfect for weight loss and muscle gain.\"\\n    },\\n    {\\n      \"meal_name\": \"Oatmeal with Berries\",\\n      \"nutrients\": \"High in fiber, antioxidants, and healthy carbohydrates\",\\n      \"ingredients\": [\\n        \"Rolled Oats\",\\n        \"Blueberries\",\\n        \"Almonds\",\\n        \"Honey\",\\n        \"Milk\"\\n      ],\\n      \"main_ingredient\": \"Rolled Oats\",\\n      \"food_category\": \"Breakfast\",\\n      \"description\": \"Oatmeal is a fantastic source of complex carbohydrates that provide sustained energy for your workouts. Topped with berries and almonds, this meal is rich in antioxidants and healthy fats, supporting your overall health and performance.\"\\n    }\\n  ]\\n}'"
      ]
     },
     "execution_count": 20,
     "metadata": {},
     "output_type": "execute_result"
    }
   ],
   "source": [
    "response"
   ]
  },
  {
   "cell_type": "code",
   "execution_count": 22,
   "id": "5509968f-1a07-49d5-a586-730aa194ecd0",
   "metadata": {},
   "outputs": [
    {
     "data": {
      "application/json": {
       "choices": [
        {
         "finish_reason": "stop",
         "index": 0,
         "logprobs": null,
         "message": {
          "annotations": [],
          "audio": null,
          "content": "yes",
          "function_call": null,
          "refusal": null,
          "role": "assistant",
          "tool_calls": null
         }
        }
       ],
       "created": 1743604325,
       "id": "chatcmpl-BHtQLxDt8KROEysngHSXkXUeK2gP8",
       "model": "gpt-4o-mini-2024-07-18",
       "object": "chat.completion",
       "service_tier": "default",
       "system_fingerprint": "fp_86d0290411",
       "usage": {
        "completion_tokens": 2,
        "completion_tokens_details": {
         "accepted_prediction_tokens": 0,
         "audio_tokens": 0,
         "reasoning_tokens": 0,
         "rejected_prediction_tokens": 0
        },
        "prompt_tokens": 792,
        "prompt_tokens_details": {
         "audio_tokens": 0,
         "cached_tokens": 0
        },
        "total_tokens": 794
       }
      },
      "text/plain": [
       "<IPython.core.display.JSON object>"
      ]
     },
     "metadata": {
      "application/json": {
       "expanded": false,
       "root": "root"
      }
     },
     "output_type": "display_data"
    },
    {
     "data": {
      "text/html": [
       "\n",
       "    <style>\n",
       "        .usage-table {\n",
       "            font-family: Arial, sans-serif;\n",
       "            font-size: 12px;\n",
       "            width: 70%;\n",
       "            border-collapse: collapse;\n",
       "            margin: 10px auto;\n",
       "        }\n",
       "        .usage-table th, .usage-table td {\n",
       "            padding: 6px 10px;\n",
       "            text-align: left;\n",
       "            border-bottom: 1px solid #ddd;\n",
       "        }\n",
       "        .usage-table th {\n",
       "            background-color: #007bff;\n",
       "            color: white;\n",
       "            text-align: center;\n",
       "        }\n",
       "        .input-row { background-color: #e3f2fd; }\n",
       "        .cached-row { background-color: #f1f8e9; }\n",
       "        .output-row { background-color: #ffebee; }\n",
       "        .total-row { background-color: #007bff; font-weight: bold; }\n",
       "    </style>\n",
       "    \n",
       "    <table class=\"usage-table\">\n",
       "        <tr>\n",
       "            <th>Type</th>\n",
       "            <th>Rate ($/1M)</th>\n",
       "            <th>Tokens</th>\n",
       "            <th>Cost ($)</th>\n",
       "        </tr>\n",
       "        <tr class=\"input-row\">\n",
       "            <td>Input 🔽</td>\n",
       "            <td>0.15</td>\n",
       "            <td>792</td>\n",
       "            <td>0.0001188000</td>\n",
       "        </tr>\n",
       "        <tr class=\"cached-row\">\n",
       "            <td>Cached Input 🔄</td>\n",
       "            <td>0.075</td>\n",
       "            <td>0</td>\n",
       "            <td>0.0000000000</td>\n",
       "        </tr>\n",
       "        <tr class=\"output-row\">\n",
       "            <td>Output 🔼</td>\n",
       "            <td>0.6</td>\n",
       "            <td>2</td>\n",
       "            <td>0.0000012000</td>\n",
       "        </tr>\n",
       "        <tr class=\"total-row\">\n",
       "            <td>Total 💰</td>\n",
       "            <td>—</td>\n",
       "            <td>—</td>\n",
       "            <td>0.0001200000</td>\n",
       "        </tr>\n",
       "    </table>\n",
       "    "
      ],
      "text/plain": [
       "<IPython.core.display.HTML object>"
      ]
     },
     "metadata": {},
     "output_type": "display_data"
    },
    {
     "data": {
      "text/plain": [
       "'yes'"
      ]
     },
     "execution_count": 22,
     "metadata": {},
     "output_type": "execute_result"
    }
   ],
   "source": [
    "intent_confirmation(response)"
   ]
  },
  {
   "cell_type": "code",
   "execution_count": 23,
   "id": "bf1cc8bd-be4a-4b51-b319-c8b7783374f2",
   "metadata": {},
   "outputs": [],
   "source": [
    "def extract_python_dictionary(text):\n",
    "    prompt = f\"\"\"\n",
    "\n",
    "    You are a python expert.\n",
    "    Your job is to extract python dictionary from {text} that contains the list of meals\n",
    "    Each and every meal item contains the keys meal_name, nutrients, ingredients, main_ingredient, food_category, description.\n",
    "\n",
    "    The output should be a json string without any code markers\n",
    "    \n",
    "    \"\"\"\n",
    "\n",
    "    conversation = [{\"role\": \"system\", \"content\": prompt}]\n",
    "    response = get_chat_model_completions(conversation)\n",
    "    return json.loads(response)"
   ]
  },
  {
   "cell_type": "code",
   "execution_count": 25,
   "id": "597b1e75-3bd8-4f6c-a58a-65e2ee3dc834",
   "metadata": {},
   "outputs": [],
   "source": [
    "some_response = f\"\"\"\n",
    "Thank you for that information, Suyash! Since you don't have specific dietary preferences, I can suggest a variety of meals that will support your goals of weight loss, strength gain, and improved endurance. \n",
    "\n",
    "Here are a few examples of food categories that I can include in your meal plan: \n",
    "- Main Course\n",
    "- Side Dishes\n",
    "- Snacks\n",
    "\n",
    "Now, let me provide you with some meal options that are nutritious and aligned with your objectives. \n",
    "\n",
    "1. {{'meal_name': 'Grilled Chicken Quinoa Bowl', 'nutrients': 'High in protein, fiber, and healthy fats', 'ingredients': ['Chicken Breast', 'Quinoa', 'Avocado', 'Spinach', 'Cherry Tomatoes', 'Olive Oil'], 'main_ingredient': 'Chicken Breast', 'food_category': 'Main Course', 'description': 'This meal is packed with protein from the chicken, which helps in muscle recovery and strength gain. Quinoa provides complex carbohydrates for sustained energy, while spinach and tomatoes add essential vitamins.'}}\n",
    "\n",
    "2. {{'meal_name': 'Salmon and Asparagus', 'nutrients': 'Rich in omega-3 fatty acids, protein, and vitamins', 'ingredients': ['Salmon', 'Asparagus', 'Olive Oil', 'Lemon', 'Garlic'], 'main_ingredient': 'Salmon', 'food_category': 'Main Course', 'description': 'Salmon is an excellent source of protein and omega-3 fatty acids, which are beneficial for heart health and muscle recovery. Asparagus adds fiber and essential vitamins, making this a balanced meal for endurance athletes.'}}\n",
    "\n",
    "3. {{'meal_name': 'Chickpea Salad', 'nutrients': 'High in protein, fiber, and antioxidants', 'ingredients': ['Chickpeas', 'Cucumber', 'Tomatoes', 'Red Onion', 'Olive Oil', 'Lemon Juice'], 'main_ingredient': 'Chickpeas', 'food_category': 'Side', 'description': 'This refreshing salad is packed with protein from chickpeas and is rich in fiber, which aids in digestion and keeps you full longer. The fresh vegetables provide essential vitamins and minerals for overall health.'}}\n",
    "\n",
    "4. {{'meal_name': 'Vegetable Stir-Fry with Tofu', 'nutrients': 'High in protein, vitamins, and minerals', 'ingredients': ['Tofu', 'Broccoli', 'Bell Peppers', 'Carrots', 'Soy Sauce', 'Ginger'], 'main_ingredient': 'Tofu', 'food_category': 'Main Course', 'description': 'Tofu is a great source of plant-based protein, and the colorful vegetables provide a variety of nutrients. This stir-fry is low in calories but high in flavor, making it perfect for weight loss and muscle gain.'}}\n",
    "\n",
    "5. {{'meal_name': 'Oatmeal with Berries', 'nutrients': 'High in fiber, antioxidants, and healthy carbohydrates', 'ingredients': ['Rolled Oats', 'Blueberries', 'Almonds', 'Honey', 'Milk'], 'main_ingredient': 'Rolled Oats', 'food_category': 'Breakfast', 'description': 'Oatmeal is a fantastic source of complex carbohydrates that provide sustained energy for your workouts. Topped with berries and almonds, this meal is rich in antioxidants and healthy fats, supporting your overall health and performance.'}}\n",
    "\n",
    "These meals are designed to provide you with the nutrients you need to support your training and help you reach your goals. If you have any questions or need more options, feel free to ask!\"\n",
    "\"\"\""
   ]
  },
  {
   "cell_type": "code",
   "execution_count": 27,
   "id": "d8b9b386-6536-43ec-b99e-5cdac1556a2b",
   "metadata": {},
   "outputs": [
    {
     "data": {
      "application/json": {
       "choices": [
        {
         "finish_reason": "stop",
         "index": 0,
         "logprobs": null,
         "message": {
          "annotations": [],
          "audio": null,
          "content": "[\n    {\n        \"meal_name\": \"Grilled Chicken Quinoa Bowl\",\n        \"nutrients\": \"High in protein, fiber, and healthy fats\",\n        \"ingredients\": [\n            \"Chicken Breast\",\n            \"Quinoa\",\n            \"Avocado\",\n            \"Spinach\",\n            \"Cherry Tomatoes\",\n            \"Olive Oil\"\n        ],\n        \"main_ingredient\": \"Chicken Breast\",\n        \"food_category\": \"Main Course\",\n        \"description\": \"This meal is packed with protein from the chicken, which helps in muscle recovery and strength gain. Quinoa provides complex carbohydrates for sustained energy, while spinach and tomatoes add essential vitamins.\"\n    },\n    {\n        \"meal_name\": \"Salmon and Asparagus\",\n        \"nutrients\": \"Rich in omega-3 fatty acids, protein, and vitamins\",\n        \"ingredients\": [\n            \"Salmon\",\n            \"Asparagus\",\n            \"Olive Oil\",\n            \"Lemon\",\n            \"Garlic\"\n        ],\n        \"main_ingredient\": \"Salmon\",\n        \"food_category\": \"Main Course\",\n        \"description\": \"Salmon is an excellent source of protein and omega-3 fatty acids, which are beneficial for heart health and muscle recovery. Asparagus adds fiber and essential vitamins, making this a balanced meal for endurance athletes.\"\n    },\n    {\n        \"meal_name\": \"Chickpea Salad\",\n        \"nutrients\": \"High in protein, fiber, and antioxidants\",\n        \"ingredients\": [\n            \"Chickpeas\",\n            \"Cucumber\",\n            \"Tomatoes\",\n            \"Red Onion\",\n            \"Olive Oil\",\n            \"Lemon Juice\"\n        ],\n        \"main_ingredient\": \"Chickpeas\",\n        \"food_category\": \"Side\",\n        \"description\": \"This refreshing salad is packed with protein from chickpeas and is rich in fiber, which aids in digestion and keeps you full longer. The fresh vegetables provide essential vitamins and minerals for overall health.\"\n    },\n    {\n        \"meal_name\": \"Vegetable Stir-Fry with Tofu\",\n        \"nutrients\": \"High in protein, vitamins, and minerals\",\n        \"ingredients\": [\n            \"Tofu\",\n            \"Broccoli\",\n            \"Bell Peppers\",\n            \"Carrots\",\n            \"Soy Sauce\",\n            \"Ginger\"\n        ],\n        \"main_ingredient\": \"Tofu\",\n        \"food_category\": \"Main Course\",\n        \"description\": \"Tofu is a great source of plant-based protein, and the colorful vegetables provide a variety of nutrients. This stir-fry is low in calories but high in flavor, making it perfect for weight loss and muscle gain.\"\n    },\n    {\n        \"meal_name\": \"Oatmeal with Berries\",\n        \"nutrients\": \"High in fiber, antioxidants, and healthy carbohydrates\",\n        \"ingredients\": [\n            \"Rolled Oats\",\n            \"Blueberries\",\n            \"Almonds\",\n            \"Honey\",\n            \"Milk\"\n        ],\n        \"main_ingredient\": \"Rolled Oats\",\n        \"food_category\": \"Breakfast\",\n        \"description\": \"Oatmeal is a fantastic source of complex carbohydrates that provide sustained energy for your workouts. Topped with berries and almonds, this meal is rich in antioxidants and healthy fats, supporting your overall health and performance.\"\n    }\n]",
          "function_call": null,
          "refusal": null,
          "role": "assistant",
          "tool_calls": null
         }
        }
       ],
       "created": 1743604568,
       "id": "chatcmpl-BHtUGZGTa4vRve08GxdWl8RCc9So4",
       "model": "gpt-4o-mini-2024-07-18",
       "object": "chat.completion",
       "service_tier": "default",
       "system_fingerprint": "fp_86d0290411",
       "usage": {
        "completion_tokens": 678,
        "completion_tokens_details": {
         "accepted_prediction_tokens": 0,
         "audio_tokens": 0,
         "reasoning_tokens": 0,
         "rejected_prediction_tokens": 0
        },
        "prompt_tokens": 798,
        "prompt_tokens_details": {
         "audio_tokens": 0,
         "cached_tokens": 0
        },
        "total_tokens": 1476
       }
      },
      "text/plain": [
       "<IPython.core.display.JSON object>"
      ]
     },
     "metadata": {
      "application/json": {
       "expanded": false,
       "root": "root"
      }
     },
     "output_type": "display_data"
    },
    {
     "data": {
      "text/html": [
       "\n",
       "    <style>\n",
       "        .usage-table {\n",
       "            font-family: Arial, sans-serif;\n",
       "            font-size: 12px;\n",
       "            width: 70%;\n",
       "            border-collapse: collapse;\n",
       "            margin: 10px auto;\n",
       "        }\n",
       "        .usage-table th, .usage-table td {\n",
       "            padding: 6px 10px;\n",
       "            text-align: left;\n",
       "            border-bottom: 1px solid #ddd;\n",
       "        }\n",
       "        .usage-table th {\n",
       "            background-color: #007bff;\n",
       "            color: white;\n",
       "            text-align: center;\n",
       "        }\n",
       "        .input-row { background-color: #e3f2fd; }\n",
       "        .cached-row { background-color: #f1f8e9; }\n",
       "        .output-row { background-color: #ffebee; }\n",
       "        .total-row { background-color: #007bff; font-weight: bold; }\n",
       "    </style>\n",
       "    \n",
       "    <table class=\"usage-table\">\n",
       "        <tr>\n",
       "            <th>Type</th>\n",
       "            <th>Rate ($/1M)</th>\n",
       "            <th>Tokens</th>\n",
       "            <th>Cost ($)</th>\n",
       "        </tr>\n",
       "        <tr class=\"input-row\">\n",
       "            <td>Input 🔽</td>\n",
       "            <td>0.15</td>\n",
       "            <td>798</td>\n",
       "            <td>0.0001197000</td>\n",
       "        </tr>\n",
       "        <tr class=\"cached-row\">\n",
       "            <td>Cached Input 🔄</td>\n",
       "            <td>0.075</td>\n",
       "            <td>0</td>\n",
       "            <td>0.0000000000</td>\n",
       "        </tr>\n",
       "        <tr class=\"output-row\">\n",
       "            <td>Output 🔼</td>\n",
       "            <td>0.6</td>\n",
       "            <td>678</td>\n",
       "            <td>0.0004068000</td>\n",
       "        </tr>\n",
       "        <tr class=\"total-row\">\n",
       "            <td>Total 💰</td>\n",
       "            <td>—</td>\n",
       "            <td>—</td>\n",
       "            <td>0.0005265000</td>\n",
       "        </tr>\n",
       "    </table>\n",
       "    "
      ],
      "text/plain": [
       "<IPython.core.display.HTML object>"
      ]
     },
     "metadata": {},
     "output_type": "display_data"
    },
    {
     "data": {
      "application/json": [
       {
        "description": "This meal is packed with protein from the chicken, which helps in muscle recovery and strength gain. Quinoa provides complex carbohydrates for sustained energy, while spinach and tomatoes add essential vitamins.",
        "food_category": "Main Course",
        "ingredients": [
         "Chicken Breast",
         "Quinoa",
         "Avocado",
         "Spinach",
         "Cherry Tomatoes",
         "Olive Oil"
        ],
        "main_ingredient": "Chicken Breast",
        "meal_name": "Grilled Chicken Quinoa Bowl",
        "nutrients": "High in protein, fiber, and healthy fats"
       },
       {
        "description": "Salmon is an excellent source of protein and omega-3 fatty acids, which are beneficial for heart health and muscle recovery. Asparagus adds fiber and essential vitamins, making this a balanced meal for endurance athletes.",
        "food_category": "Main Course",
        "ingredients": [
         "Salmon",
         "Asparagus",
         "Olive Oil",
         "Lemon",
         "Garlic"
        ],
        "main_ingredient": "Salmon",
        "meal_name": "Salmon and Asparagus",
        "nutrients": "Rich in omega-3 fatty acids, protein, and vitamins"
       },
       {
        "description": "This refreshing salad is packed with protein from chickpeas and is rich in fiber, which aids in digestion and keeps you full longer. The fresh vegetables provide essential vitamins and minerals for overall health.",
        "food_category": "Side",
        "ingredients": [
         "Chickpeas",
         "Cucumber",
         "Tomatoes",
         "Red Onion",
         "Olive Oil",
         "Lemon Juice"
        ],
        "main_ingredient": "Chickpeas",
        "meal_name": "Chickpea Salad",
        "nutrients": "High in protein, fiber, and antioxidants"
       },
       {
        "description": "Tofu is a great source of plant-based protein, and the colorful vegetables provide a variety of nutrients. This stir-fry is low in calories but high in flavor, making it perfect for weight loss and muscle gain.",
        "food_category": "Main Course",
        "ingredients": [
         "Tofu",
         "Broccoli",
         "Bell Peppers",
         "Carrots",
         "Soy Sauce",
         "Ginger"
        ],
        "main_ingredient": "Tofu",
        "meal_name": "Vegetable Stir-Fry with Tofu",
        "nutrients": "High in protein, vitamins, and minerals"
       },
       {
        "description": "Oatmeal is a fantastic source of complex carbohydrates that provide sustained energy for your workouts. Topped with berries and almonds, this meal is rich in antioxidants and healthy fats, supporting your overall health and performance.",
        "food_category": "Breakfast",
        "ingredients": [
         "Rolled Oats",
         "Blueberries",
         "Almonds",
         "Honey",
         "Milk"
        ],
        "main_ingredient": "Rolled Oats",
        "meal_name": "Oatmeal with Berries",
        "nutrients": "High in fiber, antioxidants, and healthy carbohydrates"
       }
      ],
      "text/plain": [
       "<IPython.core.display.JSON object>"
      ]
     },
     "metadata": {
      "application/json": {
       "expanded": false,
       "root": "root"
      }
     },
     "output_type": "display_data"
    }
   ],
   "source": [
    "meals = extract_python_dictionary(some_response)\n",
    "display(JSON(meals))"
   ]
  },
  {
   "cell_type": "code",
   "execution_count": 127,
   "id": "eed8c1e5-b6e5-4728-b7cc-c1c8effe2aa7",
   "metadata": {},
   "outputs": [
    {
     "data": {
      "text/plain": [
       "{'meals': [{'strMeal': 'Corba',\n",
       "   'strMealThumb': 'https://www.themealdb.com/images/media/meals/58oia61564916529.jpg',\n",
       "   'idMeal': '52977'},\n",
       "  {'strMeal': 'Tahini Lentils',\n",
       "   'strMealThumb': 'https://www.themealdb.com/images/media/meals/vpxyqt1511464175.jpg',\n",
       "   'idMeal': '52869'}]}"
      ]
     },
     "execution_count": 127,
     "metadata": {},
     "output_type": "execute_result"
    }
   ],
   "source": [
    "index = 4\n",
    "main_ingredient = meals[index]['main_ingredient']\n",
    "themealdbapi.filter_meal_by_ingredient([main_ingredient])"
   ]
  },
  {
   "cell_type": "code",
   "execution_count": 130,
   "id": "4c85c989-c0d7-436c-ba94-907c8d8f275f",
   "metadata": {},
   "outputs": [
    {
     "data": {
      "text/plain": [
       "{'meals': [{'idMeal': '52869',\n",
       "   'strMeal': 'Tahini Lentils',\n",
       "   'strMealAlternate': None,\n",
       "   'strCategory': 'Vegetarian',\n",
       "   'strArea': 'Moroccan',\n",
       "   'strInstructions': 'In a jug, mix the tahini with the zest and juice of the lemon and 50ml of cold water to make a runny dressing. Season to taste, then set aside.\\r\\nHeat the oil in a wok or large frying pan over a medium-high heat. Add the red onion, along with a pinch of salt, and fry for 2 mins until starting to soften and colour. Add the garlic, pepper, green beans and courgette and fry for 5 min, stirring frequently.\\r\\nTip in the kale, lentils and the tahini dressing. Keep the pan on the heat for a couple of mins, stirring everything together until the kale is wilted and it’s all coated in the creamy dressing.',\n",
       "   'strMealThumb': 'https://www.themealdb.com/images/media/meals/vpxyqt1511464175.jpg',\n",
       "   'strTags': 'Pulse',\n",
       "   'strYoutube': 'https://www.youtube.com/watch?v=8kRlmz8pW0I',\n",
       "   'strIngredient1': 'Tahini',\n",
       "   'strIngredient2': 'Lemon',\n",
       "   'strIngredient3': 'Olive Oil',\n",
       "   'strIngredient4': 'Red Onions',\n",
       "   'strIngredient5': 'Garlic',\n",
       "   'strIngredient6': 'Yellow Pepper',\n",
       "   'strIngredient7': 'Green Beans',\n",
       "   'strIngredient8': 'Courgettes',\n",
       "   'strIngredient9': 'Kale',\n",
       "   'strIngredient10': 'Lentils',\n",
       "   'strIngredient11': '',\n",
       "   'strIngredient12': '',\n",
       "   'strIngredient13': '',\n",
       "   'strIngredient14': '',\n",
       "   'strIngredient15': '',\n",
       "   'strIngredient16': '',\n",
       "   'strIngredient17': '',\n",
       "   'strIngredient18': '',\n",
       "   'strIngredient19': '',\n",
       "   'strIngredient20': '',\n",
       "   'strMeasure1': '50g',\n",
       "   'strMeasure2': 'zest and juice of 1',\n",
       "   'strMeasure3': '2 tblsp ',\n",
       "   'strMeasure4': '1 chopped',\n",
       "   'strMeasure5': '1 clove peeled crushed',\n",
       "   'strMeasure6': '1 thinly sliced',\n",
       "   'strMeasure7': '200g',\n",
       "   'strMeasure8': '1 sliced',\n",
       "   'strMeasure9': '100g shredded',\n",
       "   'strMeasure10': '250g pack',\n",
       "   'strMeasure11': '',\n",
       "   'strMeasure12': '',\n",
       "   'strMeasure13': '',\n",
       "   'strMeasure14': '',\n",
       "   'strMeasure15': '',\n",
       "   'strMeasure16': '',\n",
       "   'strMeasure17': '',\n",
       "   'strMeasure18': '',\n",
       "   'strMeasure19': '',\n",
       "   'strMeasure20': '',\n",
       "   'strSource': 'https://www.bbcgoodfood.com/recipes/veggie-tahini-lentils',\n",
       "   'strImageSource': None,\n",
       "   'strCreativeCommonsConfirmed': None,\n",
       "   'dateModified': None}]}"
      ]
     },
     "execution_count": 130,
     "metadata": {},
     "output_type": "execute_result"
    }
   ],
   "source": [
    "themealdbapi.get_meal_details_by_id(52869)"
   ]
  }
 ],
 "metadata": {
  "kernelspec": {
   "display_name": "Python 3 (ipykernel)",
   "language": "python",
   "name": "python3"
  },
  "language_info": {
   "codemirror_mode": {
    "name": "ipython",
    "version": 3
   },
   "file_extension": ".py",
   "mimetype": "text/x-python",
   "name": "python",
   "nbconvert_exporter": "python",
   "pygments_lexer": "ipython3",
   "version": "3.11.11"
  }
 },
 "nbformat": 4,
 "nbformat_minor": 5
}
